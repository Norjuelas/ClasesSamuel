{
 "cells": [
  {
   "cell_type": "markdown",
   "id": "f5ab3dd2",
   "metadata": {},
   "source": [
    "# Evaluación de Nivel"
   ]
  },
  {
   "cell_type": "markdown",
   "id": "b50abb3d",
   "metadata": {},
   "source": [
    "### ⚠️⚠️⚠️ Está estrictamente prohibido realizar búsquedas en internet, utilizar herramientas de IA, o acceder a materiales externos durante esta evaluación. El trabajo presentado debe reflejar tu propio entendimiento.⚠️⚠️⚠️"
   ]
  },
  {
   "cell_type": "markdown",
   "id": "9cfa7496",
   "metadata": {},
   "source": [
    "## Reto 1: Hola Mundo\n",
    "\n",
    "Durante este reto esta prohibido el uso de cualquier tipo de navegador web, modelo GPT, podras usar el linter y el autocompletado, ademas de que solo tendras permitido utilizar funciones nativas de python\n",
    "\n",
    "Escribe un código que imprima \"Hola Mundo, soy [tu nombre] y me gusta programar, el nombre debe ser ingresado por la funcion de ingreso de datos nativa de python, luego crea una funcion que castee tu nombre a sus valores hexadecimales, posteriormente mejora la funcion para que atraves de flags, indique que tipo de dato esta siendo ingresado, finalmente añade un flag a tu funcion que permita añadir un numero de ciclos donde progresivamente se imprima letra por letra tu nombre \n",
    "\n",
    "Tu código aquí:"
   ]
  },
  {
   "cell_type": "code",
   "execution_count": 2,
   "id": "e0ca2926",
   "metadata": {},
   "outputs": [],
   "source": [
    "### Codigo respuesta "
   ]
  },
  {
   "cell_type": "markdown",
   "id": "5ac9bbf5",
   "metadata": {},
   "source": [
    "## Reto 2: Parser de texto\n",
    " Crea una función que reciba un texto y cuente cuántas veces aparece cada palabra (ignorando mayúsculas)\n",
    " Entrada: \"Hola mundo hola hola\"\n",
    " Salida esperada: {'hola': 3, 'mundo': 1}"
   ]
  },
  {
   "cell_type": "code",
   "execution_count": 3,
   "id": "3762fdf6",
   "metadata": {},
   "outputs": [],
   "source": [
    "### Codigo respuesta "
   ]
  },
  {
   "cell_type": "markdown",
   "id": "b88bea80",
   "metadata": {},
   "source": [
    "## Reto 3: Función Fibonacci\n",
    "\n",
    "Escribe una función que devuelva la lista de Fibonacci hasta el número n\n",
    "\n",
    "### Instrucciones:\n",
    "Escribe una función llamada fibonacci_hasta_n que reciba como parámetro un número entero positivo n y devuelva una lista con la secuencia de Fibonacci hasta aquellos números que sean menores o iguales a n.\n",
    "\n",
    "Requisitos:\n",
    "\n",
    "La secuencia debe comenzar con los números 0 y 1.\n",
    "\n",
    "Cada número subsiguiente es la suma de los dos anteriores.\n",
    "\n",
    "Si n es menor que 0, la función debe devolver una lista vacía."
   ]
  },
  {
   "cell_type": "code",
   "execution_count": 4,
   "id": "2b9bb1a2",
   "metadata": {},
   "outputs": [],
   "source": [
    "def fibonacci(n):\n",
    "    pass  # Tu código aquí\n",
    "\n",
    "# Prueba:\n",
    "fibonacci(10)  # → [0, 1, 1, 2, 3, 5, 8]"
   ]
  },
  {
   "cell_type": "markdown",
   "id": "c795d2d6",
   "metadata": {},
   "source": [
    "## Reto 4: Uso de ambientes\n",
    "Crea un ambiente en python e importa localmente en ese ambiente las librerias que uses, luego añadelas a tu requirements *Todo esto hazlo desde el terminal*"
   ]
  },
  {
   "cell_type": "markdown",
   "id": "6ca48b97",
   "metadata": {},
   "source": [
    "## Reto 5: Usar la librería requests para obtener datos de la API de Pokémon\n",
    "Endpoint: https://pokeapi.co/api/v2/pokemon/ditto"
   ]
  },
  {
   "cell_type": "code",
   "execution_count": 5,
   "id": "9d49163b",
   "metadata": {},
   "outputs": [],
   "source": [
    "# Tu código aquí import..."
   ]
  },
  {
   "cell_type": "markdown",
   "id": "904a78b6",
   "metadata": {},
   "source": [
    "# Reto 6: Crea una función que consulte una API pública y retorne información útil\n",
    " Sugerencias: API de Pokémon, de clima o cualquier API con datos abiertos\n",
    "\n",
    "Desafío adicional: ¿Cómo manejarías errores de conexión o respuestas inválidas?"
   ]
  },
  {
   "cell_type": "code",
   "execution_count": null,
   "id": "094dae67",
   "metadata": {},
   "outputs": [],
   "source": []
  },
  {
   "cell_type": "markdown",
   "id": "e80b9264",
   "metadata": {},
   "source": [
    "# Reto 7: Crear carpeta, archivo y escribir texto usando os o subprocess\n",
    "\n",
    "## Objetivo:\n",
    " 1. Crear una carpeta \"retos\"\n",
    " 2. Crear archivo \"test.txt\" dentro de \"retos\"\n",
    " 3. Escribir \"¡Hola desde Bash!\" en el archivo\n",
    " 4. Leer e imprimir el contenido del archivo"
   ]
  },
  {
   "cell_type": "code",
   "execution_count": 6,
   "id": "01223793",
   "metadata": {},
   "outputs": [],
   "source": [
    "# import os o subprocess"
   ]
  },
  {
   "cell_type": "markdown",
   "id": "80eecd50",
   "metadata": {},
   "source": [
    "# Reto 8: Contenedor Docker\n",
    "\n",
    "1. Escribe un `Dockerfile` que:\n",
    "   - Use `python:3.10-slim`\n",
    "   - Copie un archivo `app.py`\n",
    "   - Lo ejecute al iniciar\n",
    "\n",
    "2. Construye el contenedor:\n",
    "```bash\n",
    "docker build -t reto_app ."
   ]
  },
  {
   "cell_type": "markdown",
   "id": "1ec6faf0",
   "metadata": {},
   "source": [
    "# Reto 9: Fuerza Bruta Simulada (con `requests`)\n",
    "\n",
    "Fuerza bruta simulada contra un formulario de login (ficticio), intenta hacer un ingreso al usuario admin utilizando la libreria import y la url \"https://httpbin.org/post\" "
   ]
  },
  {
   "cell_type": "code",
   "execution_count": 7,
   "id": "07342361",
   "metadata": {},
   "outputs": [],
   "source": [
    "# tu codigo aqui"
   ]
  },
  {
   "cell_type": "markdown",
   "id": "633526cc",
   "metadata": {},
   "source": [
    "# Reto 10: Laboratorio Final – Mini-CTF\n",
    "\n",
    "1. Crea un pequeño servidor Flask con un login simple.\n",
    "2. Usa Docker para contenerizarlo.\n",
    "3. Usa `requests` o `pwntools` para hacer fuerza bruta contra ese servidor.\n",
    "\n",
    "Opcional:\n",
    "- Crear un pequeño \"flag\" que el estudiante debe descubrir."
   ]
  }
 ],
 "metadata": {
  "kernelspec": {
   "display_name": ".venv",
   "language": "python",
   "name": "python3"
  },
  "language_info": {
   "codemirror_mode": {
    "name": "ipython",
    "version": 3
   },
   "file_extension": ".py",
   "mimetype": "text/x-python",
   "name": "python",
   "nbconvert_exporter": "python",
   "pygments_lexer": "ipython3",
   "version": "3.11.9"
  }
 },
 "nbformat": 4,
 "nbformat_minor": 5
}
